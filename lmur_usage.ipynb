{
 "cells": [
  {
   "cell_type": "code",
   "execution_count": 1,
   "id": "4267c6b2",
   "metadata": {},
   "outputs": [],
   "source": [
    "import re\n",
    "from urllib import request\n",
    "from bs4 import BeautifulSoup\n",
    "from snscrape.modules.twitter import TwitterTweetScraper, TwitterTweetScraperMode\n",
    "\n",
    "USER_AGENT = 'oryx-scraper/0.0.1'\n",
    "TIMEOUT = 5\n",
    "ORYX_URL = 'https://www.oryxspioenkop.com/2022/11/tracking-threat-russias-izdeliye-305.html'"
   ]
  },
  {
   "cell_type": "code",
   "execution_count": 2,
   "id": "7735fdb2",
   "metadata": {},
   "outputs": [],
   "source": [
    "headers = {\n",
    "    'User-Agent': USER_AGENT,\n",
    "    'Accept-Language': 'en-US,en',\n",
    "}\n",
    "req = request.Request(\n",
    "    url=ORYX_URL,\n",
    "    headers=headers,\n",
    "    method='GET',\n",
    ")\n",
    "res = request.urlopen(\n",
    "    req,\n",
    "    timeout=TIMEOUT,\n",
    ").read()"
   ]
  },
  {
   "cell_type": "code",
   "execution_count": 3,
   "id": "e12cf21a",
   "metadata": {},
   "outputs": [],
   "source": [
    "soup = BeautifulSoup(res, 'html.parser')\n",
    "post = soup.find('div', {'class': 'post'}).find('article')\n",
    "all_links = post.find_all('a', string=re.compile('\\(.*\\)'))"
   ]
  },
  {
   "cell_type": "code",
   "execution_count": 4,
   "id": "5bd7b59f",
   "metadata": {},
   "outputs": [],
   "source": [
    "# all_links[7].__dict__\n",
    "# all_links[7].text"
   ]
  },
  {
   "cell_type": "code",
   "execution_count": 5,
   "id": "8424cea1",
   "metadata": {},
   "outputs": [],
   "source": [
    "def extract_twitter_id(url):\n",
    "    return url.split('://')[-1].split('/status/')[-1].split('/')[-1]\n",
    "\n",
    "mode = TwitterTweetScraperMode.SINGLE\n",
    "\n",
    "def extract_date(link):\n",
    "    tweet_id = extract_twitter_id(link)\n",
    "    tweet = next(TwitterTweetScraper(\n",
    "        tweet_id,\n",
    "        mode=mode\n",
    "    ).get_items())\n",
    "    return tweet.date\n",
    "\n",
    "def process_links(elements):\n",
    "    for elm in elements:\n",
    "        amount = len(re.findall('(\\d+)[, ]?', elm.text))\n",
    "        link = elm.get('href')\n",
    "        date = extract_date(link)\n",
    "        for i in range(amount):\n",
    "            yield [date, link]"
   ]
  },
  {
   "cell_type": "code",
   "execution_count": 6,
   "id": "07e3ec30",
   "metadata": {},
   "outputs": [],
   "source": [
    "# This is a bit slow since it does dozens of network calls\n",
    "dates = list(process_links(all_links))"
   ]
  },
  {
   "cell_type": "code",
   "execution_count": 7,
   "id": "43f20c31",
   "metadata": {},
   "outputs": [],
   "source": [
    "import json\n",
    "json.dump(dates, open('lmur.json', 'w'), indent=4, default=str)"
   ]
  },
  {
   "cell_type": "code",
   "execution_count": 8,
   "id": "3e0858df",
   "metadata": {},
   "outputs": [],
   "source": [
    "import pandas as pd\n",
    "df = pd.DataFrame(dates).rename(columns={0: 'date', 1: 'url'})"
   ]
  },
  {
   "cell_type": "code",
   "execution_count": 9,
   "id": "40bc9dcd",
   "metadata": {},
   "outputs": [],
   "source": [
    "df = df.assign(amount=1)\n",
    "monthly = df.groupby(df['date'].dt.month)['amount'].sum()"
   ]
  },
  {
   "cell_type": "code",
   "execution_count": 10,
   "id": "8e4747bc",
   "metadata": {},
   "outputs": [
    {
     "data": {
      "text/plain": [
       "date\n",
       "6      6\n",
       "7     22\n",
       "8      9\n",
       "9      4\n",
       "10     8\n",
       "11     1\n",
       "Name: amount, dtype: int64"
      ]
     },
     "execution_count": 10,
     "metadata": {},
     "output_type": "execute_result"
    }
   ],
   "source": [
    "monthly"
   ]
  },
  {
   "cell_type": "code",
   "execution_count": 14,
   "id": "f49a9038",
   "metadata": {},
   "outputs": [
    {
     "data": {
      "text/plain": [
       "<matplotlib.legend.Legend at 0x7f324e2b3a00>"
      ]
     },
     "execution_count": 14,
     "metadata": {},
     "output_type": "execute_result"
    },
    {
     "data": {
      "image/png": "[encoded data removed]",
      "text/plain": [
       "<Figure size 640x480 with 1 Axes>"
      ]
     },
     "metadata": {},
     "output_type": "display_data"
    }
   ],
   "source": [
    "import matplotlib.pyplot as plt\n",
    "plt.xlabel('month')\n",
    "plt.ylabel('units fired')\n",
    "plt.plot(monthly, label='LMUR missiles')\n",
    "plt.legend()"
   ]
  },
  {
   "cell_type": "code",
   "execution_count": 15,
   "id": "95f795b2",
   "metadata": {},
   "outputs": [
    {
     "data": {
      "text/plain": [
       "<Figure size 640x480 with 0 Axes>"
      ]
     },
     "metadata": {},
     "output_type": "display_data"
    }
   ],
   "source": [
    "plt.savefig('lmur.png')"
   ]
  },
  {
   "cell_type": "code",
   "execution_count": null,
   "id": "7f621b10",
   "metadata": {},
   "outputs": [],
   "source": []
  }
 ],
 "metadata": {
  "kernelspec": {
   "display_name": "vp",
   "language": "python",
   "name": "vp"
  },
  "language_info": {
   "codemirror_mode": {
    "name": "ipython",
    "version": 3
   },
   "file_extension": ".py",
   "mimetype": "text/x-python",
   "name": "python",
   "nbconvert_exporter": "python",
   "pygments_lexer": "ipython3",
   "version": "3.10.9"
  }
 },
 "nbformat": 4,
 "nbformat_minor": 5
}
